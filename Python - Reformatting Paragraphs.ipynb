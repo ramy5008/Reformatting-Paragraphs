{
 "cells": [
  {
   "cell_type": "code",
   "execution_count": 1,
   "id": "e5bdab50",
   "metadata": {},
   "outputs": [
    {
     "name": "stdout",
     "output_type": "stream",
     "text": [
      "Requirement already satisfied: textwrap3 in c:\\users\\ramy\\anaconda3\\lib\\site-packages (0.9.2)Note: you may need to restart the kernel to use updated packages.\n",
      "\n"
     ]
    }
   ],
   "source": [
    "pip install textwrap3 \n"
   ]
  },
  {
   "cell_type": "code",
   "execution_count": 7,
   "id": "19dba645",
   "metadata": {
    "scrolled": false
   },
   "outputs": [
    {
     "name": "stdout",
     "output_type": "stream",
     "text": [
      "In late summer 1945, guests\n",
      "are gathered for the wedding\n",
      "reception of Don Vito\n",
      "Corleones daughter Connie\n",
      "(Talia Shire) and Carlo Rizzi\n",
      "(Gianni Russo). Vito (Marlon\n",
      "Brando), the head of the\n",
      "Corleone Mafia family, is\n",
      "known to friends and\n",
      "associates as Godfather. He\n",
      "and Tom Hagen (Robert Duvall),\n",
      "the Corleone family lawyer,\n",
      "are hearing requests for\n",
      "favors because, according to\n",
      "Italian tradition, no Sicilian\n",
      "can refuse a request on his\n",
      "daughters wedding day.\n"
     ]
    }
   ],
   "source": [
    "# Example 1\n",
    "from textwrap3 import wrap\n",
    "text = 'In late summer 1945, guests are gathered for the wedding reception of Don Vito Corleones daughter Connie (Talia Shire) and Carlo Rizzi (Gianni Russo). Vito (Marlon Brando), the head of the Corleone Mafia family, is known to friends and associates as Godfather. He and Tom Hagen (Robert Duvall), the Corleone family lawyer, are hearing requests for favors because, according to Italian tradition, no Sicilian can refuse a request on his daughters wedding day.'\n",
    "x = wrap(text, 30) \n",
    "for i in range(len(x)):\n",
    "    print(x[i])"
   ]
  },
  {
   "cell_type": "code",
   "execution_count": 8,
   "id": "d3c4f5f2",
   "metadata": {},
   "outputs": [
    {
     "name": "stdout",
     "output_type": "stream",
     "text": [
      "**Before Formatting**\n",
      " \n",
      "Summer is here.\n",
      "\n",
      "  Sky is bright.\n",
      "\n",
      "\tBirds are gone.\n",
      "\n",
      "\t Nests are empty.\n",
      "\n",
      "\t  Where is Rain?\n",
      "\n",
      " \n",
      "**After Formatting**\n",
      " \n",
      "Summer is here.\n",
      "Sky is bright.\n",
      "Birds are gone.\n",
      "Nests are empty.\n",
      "Where is Rain?\n"
     ]
    }
   ],
   "source": [
    "# Example 2\n",
    "import textwrap3\n",
    "FileName = (\"C:\\poem.txt\")\n",
    "print(\"**Before Formatting**\")\n",
    "print(\" \")\n",
    "data=open(FileName).readlines()\n",
    "for i in range(len(data)):\n",
    "   print(data[i])\n",
    "print(\" \")\n",
    "print(\"**After Formatting**\")\n",
    "print(\" \")\n",
    "data=open(FileName).readlines()\n",
    "for i in range(len(data)):\n",
    "   dedented_text = textwrap3.dedent(data[i]).strip()\n",
    "   print (dedented_text)"
   ]
  },
  {
   "cell_type": "code",
   "execution_count": null,
   "id": "2e77a11b",
   "metadata": {},
   "outputs": [],
   "source": []
  }
 ],
 "metadata": {
  "kernelspec": {
   "display_name": "Python 3",
   "language": "python",
   "name": "python3"
  },
  "language_info": {
   "codemirror_mode": {
    "name": "ipython",
    "version": 3
   },
   "file_extension": ".py",
   "mimetype": "text/x-python",
   "name": "python",
   "nbconvert_exporter": "python",
   "pygments_lexer": "ipython3",
   "version": "3.8.8"
  }
 },
 "nbformat": 4,
 "nbformat_minor": 5
}
